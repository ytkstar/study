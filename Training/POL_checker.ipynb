{
 "cells": [
  {
   "cell_type": "code",
   "execution_count": 67,
   "id": "c368434b",
   "metadata": {},
   "outputs": [
    {
     "name": "stdout",
     "output_type": "stream",
     "text": [
      "Requirement already satisfied: slackweb in ./opt/anaconda3/lib/python3.8/site-packages (1.0.5)\r\n"
     ]
    }
   ],
   "source": [
    "import csv\n",
    "import os\n",
    "import sys\n",
    "import requests\n",
    "import lxml.html\n",
    "\n",
    "!pip install slackweb\n",
    "import slackweb\n",
    "import pandas as pd\n",
    "from bs4 import BeautifulSoup as soup"
   ]
  },
  {
   "cell_type": "code",
   "execution_count": 68,
   "id": "faf6479b",
   "metadata": {},
   "outputs": [],
   "source": [
    "def scraping(url):\n",
    "        res = requests.get(url)\n",
    "        session = requests.Session()\n",
    "        headers_dic = {\"User-Agent\": \"Mozilla/5.0 (Windows NT 10.0; Win64; x64) AppleWebKit/537.36 (KHTML, like Gecko) Chrome/78.0.3904.97 Safari/537.36\"}\n",
    "        res = session.get(url, headers = headers_dic)\n",
    "        html = soup(res.text, 'html.parser')\n",
    "        result = []\n",
    "        products_list = html.select('#product_list > ul > li> a')\n",
    "        \n",
    "        for product in products_list:\n",
    "                result.append([product.get_text().replace('\\n', ''),\n",
    "                               product.get('href')])\n",
    "                              \n",
    "        return result"
   ]
  },
  {
   "cell_type": "code",
   "execution_count": 69,
   "id": "59355eb1",
   "metadata": {},
   "outputs": [],
   "source": [
    "url = 'https://www.pokemoncenter-online.com/?main_page=product_list&sort=new&pokemon1=&release=&cat1=card&cat2=extension'\n",
    "result = scraping(url)"
   ]
  },
  {
   "cell_type": "code",
   "execution_count": 70,
   "id": "49be21d7",
   "metadata": {},
   "outputs": [],
   "source": [
    "def output_csv(result):\n",
    "        with open('last_log.csv', 'w', newline = '', encoding = 'utf-8') as file:\n",
    "                headers = ['Title', 'URL']\n",
    "                writer = csv.writer(file)\n",
    "                writer.writerow(headers)\n",
    "                for row in result:\n",
    "                        writer.writerow(row)"
   ]
  },
  {
   "cell_type": "code",
   "execution_count": 71,
   "id": "36b41170",
   "metadata": {},
   "outputs": [],
   "source": [
    "output_csv(result)"
   ]
  },
  {
   "cell_type": "code",
   "execution_count": 79,
   "id": "08d82028",
   "metadata": {},
   "outputs": [],
   "source": [
    "def read_csv():\n",
    "        if not os.path.exists('last_log.csv'):\n",
    "                raise Exception('ファイルがありません')\n",
    "        if os.path.getsize('last_log.csv') == 0:\n",
    "                raise Exception('ファイルの中身が空です')\n",
    "        csv_list = pd.read_csv('last_log.csv', header = None).values.tolist()\n",
    "        return csv_list"
   ]
  },
  {
   "cell_type": "code",
   "execution_count": 80,
   "id": "6852c91f",
   "metadata": {},
   "outputs": [
    {
     "name": "stdout",
     "output_type": "stream",
     "text": [
      "[['Title', 'URL'], ['ポケモンカードゲーム ソード＆シールド 強化拡張パック Pokémon GO BOX5,200円', 'https://www.pokemoncenter-online.com/?p_cd=4521329331010'], ['ポケモンカードゲーム ソード＆シールド 強化拡張パック ダークファンタズマ BOX5,200円', 'https://www.pokemoncenter-online.com/?p_cd=4521329331027'], ['ポケモンカードゲーム ソード＆シールド 拡張パック タイムゲイザー\\u3000BOX4,950円', 'https://www.pokemoncenter-online.com/?p_cd=4521329330983'], ['ポケモンカードゲーム ソード＆シールド 強化拡張パック バトルリージョン260円', 'https://www.pokemoncenter-online.com/?p_cd=4521329323237'], ['ポケモンカードゲーム ソード＆シールド 強化拡張パック バトルリージョン BOX5,200円', 'https://www.pokemoncenter-online.com/?p_cd=4521329330884'], ['ポケモンカードゲーム ソード＆シールド ハイクラスパック VMAXクライマックス550円', 'https://www.pokemoncenter-online.com/?p_cd=4521329322681'], ['ポケモンカードゲーム ソード＆シールド ハイクラスパック VMAXクライマックス BOX5,500円', 'https://www.pokemoncenter-online.com/?p_cd=4521329330860'], ['【抽選販売】ポケモンカードゲーム ソード＆シールド 拡張パック スペースジャグラー\\u3000BOX4,950円', 'https://www.pokemoncenter-online.com/?p_cd=4521329330990'], ['【抽選販売】ポケモンカードゲーム ソード＆シールド 拡張パック 25th ANNIVERSARY COLLECTION BOX 【2021年10月22日（金）以降、順次出荷予定】4,752円', 'https://www.pokemoncenter-online.com/?p_cd=4521329330839'], ['ポケモンカードゲーム ソード＆シールド 拡張パック フュージョンアーツ BOX4,950円', 'https://www.pokemoncenter-online.com/?p_cd=4521329330808'], ['ポケモンカードゲーム ソード＆シールド 拡張パック 摩天パーフェクト  BOX4,950円', 'https://www.pokemoncenter-online.com/?p_cd=4521329314273'], ['ポケモンカードゲーム ソード＆シールド ハイクラスパック シャイニースターV BOX5,500円', 'https://www.pokemoncenter-online.com/?p_cd=4521329313405']]\n"
     ]
    }
   ],
   "source": [
    "print(read_csv())"
   ]
  },
  {
   "cell_type": "code",
   "execution_count": 81,
   "id": "7ce78718",
   "metadata": {},
   "outputs": [],
   "source": [
    "def list_dif(result, last_result):\n",
    "        return_list = []\n",
    "        for tmp in result:\n",
    "                if tmp not in last_result:\n",
    "                        return_list.append(tmp)\n",
    "                else:\n",
    "                        pass\n",
    "        return return_list"
   ]
  },
  {
   "cell_type": "code",
   "execution_count": 82,
   "id": "758d5e5d",
   "metadata": {},
   "outputs": [
    {
     "ename": "NameError",
     "evalue": "name 'last_result' is not defined",
     "output_type": "error",
     "traceback": [
      "\u001b[0;31m---------------------------------------------------------------------------\u001b[0m",
      "\u001b[0;31mNameError\u001b[0m                                 Traceback (most recent call last)",
      "\u001b[0;32m<ipython-input-82-86948ab5f92e>\u001b[0m in \u001b[0;36m<module>\u001b[0;34m\u001b[0m\n\u001b[0;32m----> 1\u001b[0;31m \u001b[0mlist_dif\u001b[0m\u001b[0;34m(\u001b[0m\u001b[0mresult\u001b[0m\u001b[0;34m,\u001b[0m \u001b[0mlast_result\u001b[0m\u001b[0;34m)\u001b[0m\u001b[0;34m\u001b[0m\u001b[0;34m\u001b[0m\u001b[0m\n\u001b[0m",
      "\u001b[0;31mNameError\u001b[0m: name 'last_result' is not defined"
     ]
    }
   ],
   "source": []
  },
  {
   "cell_type": "code",
   "execution_count": null,
   "id": "1c01092e",
   "metadata": {},
   "outputs": [],
   "source": []
  }
 ],
 "metadata": {
  "kernelspec": {
   "display_name": "Python 3",
   "language": "python",
   "name": "python3"
  },
  "language_info": {
   "codemirror_mode": {
    "name": "ipython",
    "version": 3
   },
   "file_extension": ".py",
   "mimetype": "text/x-python",
   "name": "python",
   "nbconvert_exporter": "python",
   "pygments_lexer": "ipython3",
   "version": "3.8.8"
  }
 },
 "nbformat": 4,
 "nbformat_minor": 5
}
