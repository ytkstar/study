{
 "cells": [
  {
   "cell_type": "code",
   "execution_count": 3,
   "id": "c17b5329",
   "metadata": {},
   "outputs": [],
   "source": [
    "import requests\n",
    "import re\n",
    "from bs4 import BeautifulSoup"
   ]
  },
  {
   "cell_type": "code",
   "execution_count": 10,
   "id": "86a1a50b",
   "metadata": {},
   "outputs": [
    {
     "name": "stdout",
     "output_type": "stream",
     "text": [
      "{'link': 'https://cloudsek.com/threatintelligence/goodwill-ransomware-forces-victims-to-donate-to-the-poor-and-provides-financial-assistance-to-patients-in-need/', 'title': 'GoodWill ransomware forces victims to donate to the poor', 'score': '93 points', 'comments': ' 0 comments'}\n",
      "{'link': 'https://helgeklein.com/blog/windows-os-services-apps-network-connection-target-hosts/', 'title': 'Microsoft Windows operating system talks to 291 hosts and 2,764 IPs', 'score': '55 points', 'comments': ' 0 comments'}\n",
      "{'link': 'https://rischmann.fr/blog/how-i-built-zig-sqlite', 'title': 'How I Built Zig-SQLite', 'score': '52 points', 'comments': ' 0 comments'}\n",
      "{'link': 'https://podbabble.com/', 'title': 'Show HN: A Reddit style site to discuss podcast episodes', 'score': '24 points', 'comments': ' 0 comments'}\n",
      "{'link': 'https://www.smashingmagazine.com/2022/05/magical-svg-techniques/', 'title': 'Magical SVG Techniques', 'score': '23 points', 'comments': ' 0 comments'}\n",
      "{'link': 'https://www.cnx-software.com/2022/05/26/ultra-compact-gan-atx-power-supply-delivers-up-to-250-watts/', 'title': 'Ultra compact GAN ATX power supply delivers up to 250 Watts', 'score': '204 points', 'comments': ' 0 comments'}\n",
      "{'link': 'https://www.nytimes.com/2022/05/26/technology/canada-internet-service.html', 'title': 'Internet drama in Canada', 'score': '155 points', 'comments': ' 0 comments'}\n",
      "{'link': 'https://github.com/200ok-ch/organice', 'title': 'Organice: An implementation of Org mode without the dependency of Emacs', 'score': '107 points', 'comments': ' 0 comments'}\n",
      "{'link': 'https://lea.verou.me/2020/05/todays-javascript-from-an-outsiders-perspective/', 'title': 'Today’s JavaScript, from an outsider’s perspective (2020)', 'score': '174 points', 'comments': ' 0 comments'}\n",
      "{'link': 'https://github.blog/2022-05-26-npm-security-update-oauth-tokens/', 'title': 'NPM security update: Attack campaign using stolen OAuth tokens', 'score': '136 points', 'comments': ' 0 comments'}\n",
      "{'link': 'http://etherrotmutex.blogspot.com/2017/07/what-are-odds-that-some-idiot-will-name.html', 'title': 'What are the odds that some idiot will name his mutex ether-rot-mutex (2017)', 'score': '214 points', 'comments': ' 0 comments'}\n",
      "{'link': 'https://en.wikipedia.org/wiki/Kirkbride_Plan', 'title': 'Kirkbride Plan', 'score': '21 points', 'comments': ' 0 comments'}\n",
      "{'link': 'http://colinmorris.github.io/blog/unpopular-wiki-articles', 'title': 'In search of the least viewed article on Wikipedia', 'score': '115 points', 'comments': ' 0 comments'}\n",
      "{'link': 'https://blog.serverlessq.com/aws-sns-vs-sqs-what-are-the-main-differences', 'title': 'AWS SNS vs. SQS – Main Differences', 'score': '23 points', 'comments': ' 0 comments'}\n",
      "{'link': 'https://margin.re/blog/cannoli-the-fast-qemu-tracer.aspx', 'title': 'Cannoli: The Fast QEMU Tracer', 'score': '63 points', 'comments': ' 0 comments'}\n",
      "{'link': 'https://www.freightwaves.com/news/thefts-of-powertrain-modules-plague-daimler-truck', 'title': 'Rash of parts thefts is leaving Freightliner trucks inoperable', 'score': '106 points', 'comments': ' 0 comments'}\n",
      "{'link': 'https://www.computer.org/csdl/magazine/co/2022/05/09771161/1DeEYnefsoU', 'title': 'The Data-Oriented Design Process for Game Development', 'score': '17 points', 'comments': ' 0 comments'}\n",
      "{'link': 'https://benn.substack.com/p/the-end-of-big-data', 'title': 'The end of big data', 'score': '160 points', 'comments': ' 0 comments'}\n",
      "{'link': 'https://game-news24.com/2022/05/26/microsoft-to-reportedly-recognize-raven-software-s-union-after-acquisition/', 'title': 'Microsoft to Reportedly Recognize Raven Software’s Union After Aquisition', 'score': '14 points', 'comments': ' 0 comments'}\n",
      "{'link': 'https://www.notcheckmark.com/2022/05/ghost-in-the-shellcode/', 'title': 'Ghost in the Shellcode', 'score': '37 points', 'comments': ' 0 comments'}\n",
      "{'link': 'https://economicsfromthetopdown.com/2021/11/24/the-truth-about-inflation/', 'title': 'The Truth about Inflation', 'score': '72 points', 'comments': ' 0 comments'}\n",
      "{'link': 'https://arxiv.org/abs/2105.14039', 'title': 'Mental time travel: a hierarchical memory for reinforcement learning agents', 'score': '42 points', 'comments': ' 0 comments'}\n",
      "{'link': 'https://www.githubstatus.com/incidents/zhtplv7zd052', 'title': 'GitHub Is Down Again', 'score': '104 points', 'comments': ' 0 comments'}\n",
      "{'link': 'https://cloud.google.com/blog/products/databases/alloydb-for-postgresql-columnar-engine', 'title': 'AlloyDB for PostgreSQL under the hood: Columnar engine', 'score': '89 points', 'comments': ' 0 comments'}\n",
      "{'link': 'https://sqlite.org/fiddle/', 'title': 'SQLite 3 Fiddle', 'score': '693 points', 'comments': ' 0 comments'}\n",
      "{'link': 'https://docs.taxilang.org/', 'title': 'Taxi: A language for documenting data models and the contracts of APIs', 'score': '58 points', 'comments': ' 0 comments'}\n",
      "{'link': 'https://github.com/migueldeicaza/gui.cs', 'title': 'Terminal.Gui – Cross Platform Terminal UI Toolkit for .NET', 'score': '97 points', 'comments': ' 0 comments'}\n",
      "{'link': 'https://yosefk.com/blog/its-done-in-hardware-so-its-cheap.html', 'title': \"It's done in hardware so it's cheap (2012)\", 'score': '83 points', 'comments': ' 0 comments'}\n",
      "{'link': 'https://www.themarginalian.org/2013/03/18/century-of-the-child-moma-book/', 'title': 'A Design History of Childhood (2013)', 'score': '8 points', 'comments': ' 0 comments'}\n",
      "{'link': 'https://bugzilla.mozilla.org/show_bug.cgi?id=1763632', 'title': 'Connection reuse may route traffic to malicious servers', 'score': '5 points', 'comments': ' 0 comments'}\n"
     ]
    }
   ],
   "source": [
    "articles = []\n",
    "url = 'https://news.ycombinator.com/news'\n",
    "\n",
    "res = requests.get(url)\n",
    "html_soup = BeautifulSoup(res.text, 'html.parser')\n",
    "items = html_soup.find_all('tr', class_ = 'athing')\n",
    "for item in items:\n",
    "        item_a = item.find('a', class_ = 'titlelink')\n",
    "        item_link = item_a.get('href') if item_a else None #item_aがNoneでない場合\n",
    "        item_text = item_a.get_text(strip = True) if item_a else None\n",
    "        #strip=Trueで改行や空白を除去できる\n",
    "        next_row = item.find_next_sibling('tr')\n",
    "        item_score = next_row.find('span', class_ = 'score')\n",
    "        item_score = item_score.get_text(strip = True) if item_score else '0 points'\n",
    "        \n",
    "        #regexを使って正しい要素を見つける\n",
    "        item_comments = next_row.find('a', text = re.compile('\\d+(&nbsp; | \\s)comment(s?)'))\n",
    "        item_comments = item_comments.get_text(strip = True).replace('\\xa0', ' ') if item_comments else ' 0 comments'\n",
    "        \n",
    "        articles.append(\n",
    "                {'link': item_link,\n",
    "                 'title': item_text,\n",
    "                 'score': item_score,\n",
    "                 'comments': item_comments})\n",
    "\n",
    "for article in articles:\n",
    "        print(article)\n",
    "        "
   ]
  },
  {
   "cell_type": "code",
   "execution_count": 12,
   "id": "de283a19",
   "metadata": {},
   "outputs": [
    {
     "name": "stdout",
     "output_type": "stream",
     "text": [
      "Fetching: https://hacker-news.firebaseio.com/v0/item/error.json\n",
      "None\n"
     ]
    }
   ],
   "source": [
    "import requests\n",
    "\n",
    "articles = []\n",
    "\n",
    "url = 'https://hacker-news.firebaseio.com/v0'\n",
    "\n",
    "top_stories = requests.get(url + 'topstories.json').json()\n",
    "\n",
    "for story_id in top_stories:\n",
    "        story_url = url + '/item/{}.json'.format(story_id)\n",
    "        print('Fetching:', story_url)\n",
    "        res = requests.get(story_url)\n",
    "        story_dict = res.json()\n",
    "        articles.append(story_dict)\n",
    "\n",
    "for article in articles:\n",
    "        print(article)\n",
    "        "
   ]
  },
  {
   "cell_type": "code",
   "execution_count": null,
   "id": "9fd67e05",
   "metadata": {},
   "outputs": [],
   "source": []
  }
 ],
 "metadata": {
  "kernelspec": {
   "display_name": "Python 3",
   "language": "python",
   "name": "python3"
  },
  "language_info": {
   "codemirror_mode": {
    "name": "ipython",
    "version": 3
   },
   "file_extension": ".py",
   "mimetype": "text/x-python",
   "name": "python",
   "nbconvert_exporter": "python",
   "pygments_lexer": "ipython3",
   "version": "3.8.8"
  }
 },
 "nbformat": 4,
 "nbformat_minor": 5
}
